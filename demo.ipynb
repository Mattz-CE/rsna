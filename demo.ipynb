{
 "cells": [
  {
   "cell_type": "code",
   "execution_count": null,
   "metadata": {},
   "outputs": [],
   "source": [
    "# dataframe\n",
    "import pandas as pd\n",
    "\n",
    "df = pd.read_csv('./payload/train.csv')"
   ]
  },
  {
   "cell_type": "code",
   "execution_count": 10,
   "metadata": {},
   "outputs": [
    {
     "name": "stdout",
     "output_type": "stream",
     "text": [
      "Copied vit.pth to ./models\n",
      "Copied efficientnet.pth to ./models\n",
      "Copied resnet50.pth to ./models\n",
      "Copied resnet101.pth to ./models\n",
      "Copied vit.pth to ./models\n"
     ]
    }
   ],
   "source": [
    "paths = [\n",
    "    'history/runs/run_vit_base_20241207_113554_ep28/',\n",
    "    'history/runs/run_efficientnet_20241205_114438_ep7/',\n",
    "    'history/runs/run_resnet50_20241208_231720_ep6/',\n",
    "    'history/runs/run_resnet101_20241204_201138_ep14/',\n",
    "    'history/runs/run_vit_mediumd_20241209_002034_ep26/',\n",
    "]\n",
    "# example path history\\runs\\run_efficientnet_20241205_114438_ep7\\models\\best_auc_model.pth\n",
    "\n",
    "import os\n",
    " \n",
    "# pull the best_auc_model.pth from each path and save it to ./models and rename it accordingly to the modelname COPY!!!\n",
    "for path in paths:\n",
    "    model_name = path.split('/')[2].split('_')[1] + '.pth'\n",
    "    # if there's no best_auc_model.pth in the path, use best_loss_model.pth instead\n",
    "     \n",
    "    if os.path.exists(path + '/models/best_auc_model.pth'):\n",
    "        os.system(f'copy {path}/models/best_auc_model.pth ./models/{model_name}')\n",
    "    else:\n",
    "        os.system(f'copy {path}/models/best_loss_model.pth ./models/{model_name}')\n",
    "\n",
    "    print(f'Copied {model_name} to ./models')\n"
   ]
  }
 ],
 "metadata": {
  "kernelspec": {
   "display_name": ".conda",
   "language": "python",
   "name": "python3"
  },
  "language_info": {
   "codemirror_mode": {
    "name": "ipython",
    "version": 3
   },
   "file_extension": ".py",
   "mimetype": "text/x-python",
   "name": "python",
   "nbconvert_exporter": "python",
   "pygments_lexer": "ipython3",
   "version": "3.10.13"
  }
 },
 "nbformat": 4,
 "nbformat_minor": 2
}
